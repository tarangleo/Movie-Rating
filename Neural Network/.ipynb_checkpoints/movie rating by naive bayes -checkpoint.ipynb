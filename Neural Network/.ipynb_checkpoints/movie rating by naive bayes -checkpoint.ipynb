{
 "cells": [
  {
   "cell_type": "code",
   "execution_count": 1,
   "id": "e6f3a182-c044-4259-8cf6-ad8349986111",
   "metadata": {},
   "outputs": [],
   "source": [
    "import pandas as pd\n",
    "import numpy as np\n"
   ]
  },
  {
   "cell_type": "code",
   "execution_count": 2,
   "id": "b70e5a27-b47d-4a18-aa2f-4b27abcb994c",
   "metadata": {},
   "outputs": [],
   "source": [
    "data = pd.read_csv(\"OneDrive/Desktop/ML COdes/movie Rating Prediction by text review/Train/Train.csv\")"
   ]
  },
  {
   "cell_type": "code",
   "execution_count": 3,
   "id": "2066012b-f296-4d0c-b90f-cae03dd15801",
   "metadata": {},
   "outputs": [
    {
     "data": {
      "text/html": [
       "<div>\n",
       "<style scoped>\n",
       "    .dataframe tbody tr th:only-of-type {\n",
       "        vertical-align: middle;\n",
       "    }\n",
       "\n",
       "    .dataframe tbody tr th {\n",
       "        vertical-align: top;\n",
       "    }\n",
       "\n",
       "    .dataframe thead th {\n",
       "        text-align: right;\n",
       "    }\n",
       "</style>\n",
       "<table border=\"1\" class=\"dataframe\">\n",
       "  <thead>\n",
       "    <tr style=\"text-align: right;\">\n",
       "      <th></th>\n",
       "      <th>review</th>\n",
       "      <th>label</th>\n",
       "    </tr>\n",
       "  </thead>\n",
       "  <tbody>\n",
       "    <tr>\n",
       "      <th>0</th>\n",
       "      <td>mature intelligent and highly charged melodram...</td>\n",
       "      <td>pos</td>\n",
       "    </tr>\n",
       "    <tr>\n",
       "      <th>1</th>\n",
       "      <td>http://video.google.com/videoplay?docid=211772...</td>\n",
       "      <td>pos</td>\n",
       "    </tr>\n",
       "    <tr>\n",
       "      <th>2</th>\n",
       "      <td>Title: Opera (1987) Director: Dario Argento Ca...</td>\n",
       "      <td>pos</td>\n",
       "    </tr>\n",
       "    <tr>\n",
       "      <th>3</th>\n",
       "      <td>I think a lot of people just wrote this off as...</td>\n",
       "      <td>pos</td>\n",
       "    </tr>\n",
       "    <tr>\n",
       "      <th>4</th>\n",
       "      <td>This is a story of two dogs and a cat looking ...</td>\n",
       "      <td>pos</td>\n",
       "    </tr>\n",
       "  </tbody>\n",
       "</table>\n",
       "</div>"
      ],
      "text/plain": [
       "                                              review label\n",
       "0  mature intelligent and highly charged melodram...   pos\n",
       "1  http://video.google.com/videoplay?docid=211772...   pos\n",
       "2  Title: Opera (1987) Director: Dario Argento Ca...   pos\n",
       "3  I think a lot of people just wrote this off as...   pos\n",
       "4  This is a story of two dogs and a cat looking ...   pos"
      ]
     },
     "execution_count": 3,
     "metadata": {},
     "output_type": "execute_result"
    }
   ],
   "source": [
    "data.head()"
   ]
  },
  {
   "cell_type": "code",
   "execution_count": 8,
   "id": "53f48fb2-8430-4593-be3c-b3ac9fcc0702",
   "metadata": {},
   "outputs": [],
   "source": [
    "X_train = data.get(\"review\")\n",
    "Y_train = data.get(\"label\")"
   ]
  },
  {
   "cell_type": "code",
   "execution_count": 45,
   "id": "d23877c9-577d-47a7-8352-f7a5921ae1ab",
   "metadata": {},
   "outputs": [
    {
     "data": {
      "text/plain": [
       "0    mature intelligent and highly charged melodram...\n",
       "1    http://video.google.com/videoplay?docid=211772...\n",
       "2    Title: Opera (1987) Director: Dario Argento Ca...\n",
       "3    I think a lot of people just wrote this off as...\n",
       "4    This is a story of two dogs and a cat looking ...\n",
       "Name: review, dtype: object"
      ]
     },
     "execution_count": 45,
     "metadata": {},
     "output_type": "execute_result"
    }
   ],
   "source": [
    "X_train.head()"
   ]
  },
  {
   "cell_type": "code",
   "execution_count": 139,
   "id": "7d782480-989a-4e6b-8f6e-6588fb386a00",
   "metadata": {},
   "outputs": [
    {
     "data": {
      "text/plain": [
       "['http://video.google.com/videoplay?docid=211772166650071408&hl=en Distribution was tried.<br /><br />We opted for mass appeal.<br /><br />We want the best possible viewing range so, we forgo profit and continue our manual labor jobs gladly to entertain you for working yours.<br /><br />View Texas tale, please write about it..',\n",
       " 'If you like it or not, if you like Alex or not, if you like Stuie, Texas or Texas tale..',\n",
       " 'Just write about it.<br /><br />Your opinion rules.']"
      ]
     },
     "execution_count": 139,
     "metadata": {},
     "output_type": "execute_result"
    }
   ],
   "source": [
    "X_train[1].split(\". \")"
   ]
  },
  {
   "cell_type": "code",
   "execution_count": 200,
   "id": "ec3e31b2-61b1-45af-a0aa-511fb56cd149",
   "metadata": {},
   "outputs": [],
   "source": [
    "data = pd.read_csv(\"OneDrive/Desktop/ML COdes/movie Rating Prediction by text review/Test/Test.csv\")"
   ]
  },
  {
   "cell_type": "code",
   "execution_count": 201,
   "id": "fde44a05-95e9-45f0-bd14-b0a80787f40f",
   "metadata": {},
   "outputs": [],
   "source": [
    "X_test = data.get(\"review\")"
   ]
  },
  {
   "cell_type": "code",
   "execution_count": null,
   "id": "97785ef1-b8ac-44b2-b614-83da790a7ee8",
   "metadata": {},
   "outputs": [],
   "source": []
  },
  {
   "cell_type": "code",
   "execution_count": 53,
   "id": "2ec7cca4-24fd-4fb7-bbb8-3546cec299fb",
   "metadata": {},
   "outputs": [],
   "source": [
    "s=[]"
   ]
  },
  {
   "cell_type": "code",
   "execution_count": 166,
   "id": "d5d7ac30-0042-45f5-a355-81aef5b4f3d8",
   "metadata": {},
   "outputs": [],
   "source": [
    "def splitter(i):\n",
    "    i=i.replace(\"<br /><br />\",\" \")\n",
    "    s=i.split(\". \")\n",
    "    return s"
   ]
  },
  {
   "cell_type": "code",
   "execution_count": 171,
   "id": "03a5d0b9-3d11-42a8-a232-60feb5719e56",
   "metadata": {},
   "outputs": [],
   "source": [
    "s=splitter(document)"
   ]
  },
  {
   "cell_type": "code",
   "execution_count": 172,
   "id": "847effa1-c397-4e36-9627-0f9c3325abd5",
   "metadata": {},
   "outputs": [
    {
     "name": "stdout",
     "output_type": "stream",
     "text": [
      "['My name is tarang', 'My age is 21', 'I like to code.']\n"
     ]
    }
   ],
   "source": [
    "print(s)"
   ]
  },
  {
   "cell_type": "code",
   "execution_count": null,
   "id": "abe6e4a5-8b03-48b6-be87-d018aac11ba8",
   "metadata": {},
   "outputs": [],
   "source": []
  },
  {
   "cell_type": "code",
   "execution_count": 170,
   "id": "394490c3-39e9-4e41-a7e1-f55bd652de35",
   "metadata": {},
   "outputs": [],
   "source": [
    "document=\"\"\"My name is tarang. My age is 21. I like to code.\"\"\"\n"
   ]
  },
  {
   "cell_type": "code",
   "execution_count": null,
   "id": "7f466382-c79e-49af-bb0a-31822e3201b2",
   "metadata": {},
   "outputs": [],
   "source": []
  },
  {
   "cell_type": "code",
   "execution_count": null,
   "id": "79a395fe-c126-42dd-9ec0-70eb2febdb17",
   "metadata": {},
   "outputs": [],
   "source": []
  },
  {
   "cell_type": "code",
   "execution_count": null,
   "id": "47220604-0bc6-483a-bfdf-0680f809cf06",
   "metadata": {},
   "outputs": [],
   "source": []
  },
  {
   "cell_type": "code",
   "execution_count": 47,
   "id": "c91433e7-eccd-4157-a795-1b5e50664242",
   "metadata": {},
   "outputs": [],
   "source": [
    "from nltk.tokenize import sent_tokenize,word_tokenize"
   ]
  },
  {
   "cell_type": "code",
   "execution_count": 48,
   "id": "ea9142b1-b406-4594-9185-9971f8f5b3f9",
   "metadata": {},
   "outputs": [
    {
     "data": {
      "text/plain": [
       "\u001b[1;31mSignature:\u001b[0m \u001b[0msent_tokenize\u001b[0m\u001b[1;33m(\u001b[0m\u001b[0mtext\u001b[0m\u001b[1;33m,\u001b[0m \u001b[0mlanguage\u001b[0m\u001b[1;33m=\u001b[0m\u001b[1;34m'english'\u001b[0m\u001b[1;33m)\u001b[0m\u001b[1;33m\u001b[0m\u001b[1;33m\u001b[0m\u001b[0m\n",
       "\u001b[1;31mDocstring:\u001b[0m\n",
       "Return a sentence-tokenized copy of *text*,\n",
       "using NLTK's recommended sentence tokenizer\n",
       "(currently :class:`.PunktSentenceTokenizer`\n",
       "for the specified language).\n",
       "\n",
       ":param text: text to split into sentences\n",
       ":param language: the model name in the Punkt corpus\n",
       "\u001b[1;31mFile:\u001b[0m      c:\\users\\taran\\appdata\\local\\programs\\python\\python39\\lib\\site-packages\\nltk\\tokenize\\__init__.py\n",
       "\u001b[1;31mType:\u001b[0m      function\n"
      ]
     },
     "metadata": {},
     "output_type": "display_data"
    }
   ],
   "source": [
    "sent_tokenize?"
   ]
  },
  {
   "cell_type": "code",
   "execution_count": 72,
   "id": "93e0cf0c-9c71-423a-99b4-21888bd7665b",
   "metadata": {},
   "outputs": [],
   "source": [
    "sents=sent_tokenize(document)"
   ]
  },
  {
   "cell_type": "code",
   "execution_count": 73,
   "id": "7dfa5ae4-1970-4944-aa6c-2131713f166e",
   "metadata": {},
   "outputs": [
    {
     "data": {
      "text/plain": [
       "['My name is tarang.', 'My age is 21.', 'I like to code.']"
      ]
     },
     "execution_count": 73,
     "metadata": {},
     "output_type": "execute_result"
    }
   ],
   "source": [
    "sents\n"
   ]
  },
  {
   "cell_type": "code",
   "execution_count": 74,
   "id": "e0d870aa-b811-4ff9-aa05-8b27b9678c49",
   "metadata": {},
   "outputs": [
    {
     "data": {
      "text/plain": [
       "3"
      ]
     },
     "execution_count": 74,
     "metadata": {},
     "output_type": "execute_result"
    }
   ],
   "source": [
    "len(sents)"
   ]
  },
  {
   "cell_type": "code",
   "execution_count": 78,
   "id": "da87a2db-e560-424d-9099-45b1c4e703fa",
   "metadata": {},
   "outputs": [],
   "source": [
    "words=word_tokenize(sents[0],\"english\")"
   ]
  },
  {
   "cell_type": "code",
   "execution_count": 79,
   "id": "0fa23fee-6edf-4449-9b35-c5c7f4336418",
   "metadata": {},
   "outputs": [
    {
     "data": {
      "text/plain": [
       "['My', 'name', 'is', 'tarang', '.']"
      ]
     },
     "execution_count": 79,
     "metadata": {},
     "output_type": "execute_result"
    }
   ],
   "source": [
    "words"
   ]
  },
  {
   "cell_type": "code",
   "execution_count": 140,
   "id": "e25b0364-fe0c-443d-833d-520f0ad000cf",
   "metadata": {},
   "outputs": [],
   "source": [
    "from nltk.tokenize import regexp_tokenize"
   ]
  },
  {
   "cell_type": "code",
   "execution_count": 141,
   "id": "42221a37-7dc4-4155-88de-13a5427b1ce4",
   "metadata": {},
   "outputs": [
    {
     "data": {
      "text/plain": [
       "\u001b[1;31mSignature:\u001b[0m\n",
       "\u001b[0mregexp_tokenize\u001b[0m\u001b[1;33m(\u001b[0m\u001b[1;33m\n",
       "\u001b[0m    \u001b[0mtext\u001b[0m\u001b[1;33m,\u001b[0m\u001b[1;33m\n",
       "\u001b[0m    \u001b[0mpattern\u001b[0m\u001b[1;33m,\u001b[0m\u001b[1;33m\n",
       "\u001b[0m    \u001b[0mgaps\u001b[0m\u001b[1;33m=\u001b[0m\u001b[1;32mFalse\u001b[0m\u001b[1;33m,\u001b[0m\u001b[1;33m\n",
       "\u001b[0m    \u001b[0mdiscard_empty\u001b[0m\u001b[1;33m=\u001b[0m\u001b[1;32mTrue\u001b[0m\u001b[1;33m,\u001b[0m\u001b[1;33m\n",
       "\u001b[0m    \u001b[0mflags\u001b[0m\u001b[1;33m=\u001b[0m\u001b[0mre\u001b[0m\u001b[1;33m.\u001b[0m\u001b[0mUNICODE\u001b[0m\u001b[1;33m|\u001b[0m\u001b[0mre\u001b[0m\u001b[1;33m.\u001b[0m\u001b[0mMULTILINE\u001b[0m\u001b[1;33m|\u001b[0m\u001b[0mre\u001b[0m\u001b[1;33m.\u001b[0m\u001b[0mDOTALL\u001b[0m\u001b[1;33m,\u001b[0m\u001b[1;33m\n",
       "\u001b[0m\u001b[1;33m)\u001b[0m\u001b[1;33m\u001b[0m\u001b[1;33m\u001b[0m\u001b[0m\n",
       "\u001b[1;31mDocstring:\u001b[0m\n",
       "Return a tokenized copy of *text*.  See :class:`.RegexpTokenizer`\n",
       "for descriptions of the arguments.\n",
       "\u001b[1;31mFile:\u001b[0m      c:\\users\\taran\\appdata\\local\\programs\\python\\python39\\lib\\site-packages\\nltk\\tokenize\\regexp.py\n",
       "\u001b[1;31mType:\u001b[0m      function\n"
      ]
     },
     "metadata": {},
     "output_type": "display_data"
    }
   ],
   "source": [
    "regexp_tokenize?"
   ]
  },
  {
   "cell_type": "code",
   "execution_count": null,
   "id": "2f758865-f345-45ce-b34f-39a175ebb4af",
   "metadata": {},
   "outputs": [],
   "source": []
  },
  {
   "cell_type": "code",
   "execution_count": null,
   "id": "9a94bed2-e74f-4c40-85ff-e1b390aa7218",
   "metadata": {},
   "outputs": [],
   "source": []
  },
  {
   "cell_type": "code",
   "execution_count": null,
   "id": "39406636-d735-44e7-8940-b6eb6667272f",
   "metadata": {},
   "outputs": [],
   "source": []
  },
  {
   "cell_type": "code",
   "execution_count": null,
   "id": "aa74f557-ffbb-410a-b16d-702098caa02b",
   "metadata": {},
   "outputs": [],
   "source": []
  },
  {
   "cell_type": "code",
   "execution_count": null,
   "id": "9f12fcda-eeae-40a1-beb1-7205f8b28ae4",
   "metadata": {},
   "outputs": [],
   "source": []
  },
  {
   "cell_type": "code",
   "execution_count": null,
   "id": "7e775400-f890-402a-9d8b-b4c1c1d7705a",
   "metadata": {},
   "outputs": [],
   "source": []
  },
  {
   "cell_type": "code",
   "execution_count": null,
   "id": "099d979a-8b36-4129-affb-95909c6ea277",
   "metadata": {},
   "outputs": [],
   "source": []
  },
  {
   "cell_type": "markdown",
   "id": "ae459598-e959-4f58-9a95-cc5f3bd706c8",
   "metadata": {},
   "source": [
    "## Main Code"
   ]
  },
  {
   "cell_type": "code",
   "execution_count": 142,
   "id": "4d4c8d06-02f0-4744-a664-9360ef9a11c2",
   "metadata": {},
   "outputs": [],
   "source": [
    "words=regexp_tokenize(sents[0],'[a-zA-z]+')"
   ]
  },
  {
   "cell_type": "code",
   "execution_count": 143,
   "id": "7b59ae96-72f8-4222-9973-54d437d51395",
   "metadata": {},
   "outputs": [
    {
     "data": {
      "text/plain": [
       "['My', 'name', 'is', 'tarang']"
      ]
     },
     "execution_count": 143,
     "metadata": {},
     "output_type": "execute_result"
    }
   ],
   "source": [
    "words"
   ]
  },
  {
   "cell_type": "code",
   "execution_count": 144,
   "id": "dbba8a16-098b-42fd-97d9-67f395caf42c",
   "metadata": {},
   "outputs": [],
   "source": [
    "from nltk.corpus import stopwords"
   ]
  },
  {
   "cell_type": "code",
   "execution_count": 145,
   "id": "0575955b-5920-455c-9900-ea5ba5aceeaf",
   "metadata": {},
   "outputs": [],
   "source": [
    "main_words = stopwords.words(\"english\")"
   ]
  },
  {
   "cell_type": "code",
   "execution_count": 147,
   "id": "0bde41c6-2c40-4c67-9736-194fbce5475e",
   "metadata": {},
   "outputs": [],
   "source": [
    "needed_words=[i for i in words if i not in main_words]"
   ]
  },
  {
   "cell_type": "code",
   "execution_count": 148,
   "id": "df0c3df8-bdf9-4e8c-994d-ab68e1035826",
   "metadata": {},
   "outputs": [
    {
     "data": {
      "text/plain": [
       "['My', 'name', 'tarang']"
      ]
     },
     "execution_count": 148,
     "metadata": {},
     "output_type": "execute_result"
    }
   ],
   "source": [
    "needed_words"
   ]
  },
  {
   "cell_type": "code",
   "execution_count": 149,
   "id": "6b5a450e-e0cb-44ff-9cdf-5595aa0548fe",
   "metadata": {},
   "outputs": [],
   "source": [
    "from nltk.stem.snowball import SnowballStemmer"
   ]
  },
  {
   "cell_type": "code",
   "execution_count": 150,
   "id": "a781f0a3-4421-4410-afa5-bea8088ed737",
   "metadata": {},
   "outputs": [],
   "source": [
    "ss=SnowballStemmer(\"english\")"
   ]
  },
  {
   "cell_type": "code",
   "execution_count": 151,
   "id": "1eb8724b-1da5-4880-bc62-54b71d8bf352",
   "metadata": {},
   "outputs": [],
   "source": [
    "steemed_words=[]"
   ]
  },
  {
   "cell_type": "code",
   "execution_count": 152,
   "id": "2435ae98-d586-4fdb-97ec-90e70541c9b2",
   "metadata": {},
   "outputs": [],
   "source": [
    "for needed_word in needed_words:\n",
    "    if ss.stem(needed_word) not in steemed_words:\n",
    "        steemed_words.append(ss.stem(needed_word))\n",
    "    "
   ]
  },
  {
   "cell_type": "code",
   "execution_count": 153,
   "id": "9129eb6b-6912-4a44-9c8c-3838cd550af5",
   "metadata": {},
   "outputs": [
    {
     "data": {
      "text/plain": [
       "['my', 'name', 'tarang']"
      ]
     },
     "execution_count": 153,
     "metadata": {},
     "output_type": "execute_result"
    }
   ],
   "source": [
    "steemed_words"
   ]
  },
  {
   "cell_type": "code",
   "execution_count": null,
   "id": "73e3c195-b6c9-4e52-bde0-937c6166dc31",
   "metadata": {},
   "outputs": [],
   "source": []
  },
  {
   "cell_type": "code",
   "execution_count": 154,
   "id": "72300ddc-799f-47bb-8b20-209bde988288",
   "metadata": {},
   "outputs": [],
   "source": [
    "def temp_token(document):\n",
    "    \n",
    "    document=document.replace(\"<br /><br />\",\" \")\n",
    "    words=regexp_tokenize(document,'[a-zA-z]+')\n",
    "    \n",
    "    needed_words=[i for i in words if i not in main_words]\n",
    "    \n",
    "    steemed_words=[]\n",
    "    for needed_word in needed_words:\n",
    "        if ss.stem(needed_word) not in steemed_words:\n",
    "            steemed_words.append(ss.stem(needed_word))\n",
    "    \n",
    "    return steemed_words"
   ]
  },
  {
   "cell_type": "code",
   "execution_count": 173,
   "id": "6e7310b5-b902-4cce-a882-9a9af592ab2e",
   "metadata": {},
   "outputs": [
    {
     "data": {
      "text/plain": [
       "['matur',\n",
       " 'intellig',\n",
       " 'high',\n",
       " 'charg',\n",
       " 'melodrama',\n",
       " 'unbelivebl',\n",
       " 'film',\n",
       " 'china',\n",
       " 'wei',\n",
       " 'stun',\n",
       " 'perform',\n",
       " 'catylast',\n",
       " 'love',\n",
       " 'triangl',\n",
       " 'simpli',\n",
       " 'oppurun',\n",
       " 'see',\n",
       " 'magnific',\n",
       " 'take']"
      ]
     },
     "execution_count": 173,
     "metadata": {},
     "output_type": "execute_result"
    }
   ],
   "source": [
    "temp_token(X_train[0])"
   ]
  },
  {
   "cell_type": "code",
   "execution_count": 156,
   "id": "4bca0b98-dd5d-4299-96cf-8305002c9caa",
   "metadata": {},
   "outputs": [],
   "source": [
    "from sklearn.feature_extraction.text import CountVectorizer"
   ]
  },
  {
   "cell_type": "code",
   "execution_count": 157,
   "id": "aa103f1b-779a-4a54-a40a-e1a487eafcd4",
   "metadata": {},
   "outputs": [],
   "source": [
    "cv=CountVectorizer(tokenizer=temp_token)\n",
    "vectorised_documents=cv.fit_transform(sents)"
   ]
  },
  {
   "cell_type": "code",
   "execution_count": 158,
   "id": "394459cb-984c-4d2a-905a-19e70ef6c609",
   "metadata": {},
   "outputs": [
    {
     "data": {
      "text/plain": [
       "<3x5 sparse matrix of type '<class 'numpy.int64'>'\n",
       "\twith 5 stored elements in Compressed Sparse Row format>"
      ]
     },
     "execution_count": 158,
     "metadata": {},
     "output_type": "execute_result"
    }
   ],
   "source": [
    "vectorised_documents"
   ]
  },
  {
   "cell_type": "code",
   "execution_count": 159,
   "id": "a9a22940-d2bd-4e1d-b3d0-c8b37fba0b33",
   "metadata": {},
   "outputs": [
    {
     "data": {
      "text/plain": [
       "array([[0, 0, 0, 1, 1],\n",
       "       [1, 0, 0, 0, 0],\n",
       "       [0, 1, 1, 0, 0]], dtype=int64)"
      ]
     },
     "execution_count": 159,
     "metadata": {},
     "output_type": "execute_result"
    }
   ],
   "source": [
    "vectorised_documents.toarray()"
   ]
  },
  {
   "cell_type": "code",
   "execution_count": 160,
   "id": "30bb80dc-927d-4f42-be2f-9863154fa213",
   "metadata": {},
   "outputs": [
    {
     "data": {
      "text/plain": [
       "{'name': 3, 'tarang': 4, 'age': 0, 'like': 2, 'code': 1}"
      ]
     },
     "execution_count": 160,
     "metadata": {},
     "output_type": "execute_result"
    }
   ],
   "source": [
    "cv.vocabulary_"
   ]
  },
  {
   "cell_type": "code",
   "execution_count": 204,
   "id": "7c7189d3-a009-49c0-8687-db62d230251f",
   "metadata": {},
   "outputs": [],
   "source": [
    "final=[]"
   ]
  },
  {
   "cell_type": "code",
   "execution_count": 205,
   "id": "9a044f83-e284-440c-94a4-859522605353",
   "metadata": {},
   "outputs": [],
   "source": [
    "for i in X_train[:20000]:\n",
    "    tt_value=temp_token(i)\n",
    "    sents=\" \".join(tt_value)\n",
    "    final.append(sents)"
   ]
  },
  {
   "cell_type": "code",
   "execution_count": 206,
   "id": "e813062c-1ae9-48cd-aaf9-2267abde70b5",
   "metadata": {},
   "outputs": [
    {
     "data": {
      "text/plain": [
       "['matur intellig high charg melodrama unbelivebl film china wei stun perform catylast love triangl simpli oppurun see magnific take',\n",
       " 'http video googl com videoplay docid hl en distribut tri we opt mass appeal want best possibl view rang forgo profit continu manual labor job glad entertain work texa tale pleas write if like alex stuie just your opinion rule']"
      ]
     },
     "execution_count": 206,
     "metadata": {},
     "output_type": "execute_result"
    }
   ],
   "source": [
    "final[:2]"
   ]
  },
  {
   "cell_type": "code",
   "execution_count": 221,
   "id": "baf4967a-1768-4146-a770-10e85ccbea61",
   "metadata": {},
   "outputs": [
    {
     "ename": "MemoryError",
     "evalue": "Unable to allocate 52.7 GiB for an array with shape (10000, 707327) and data type int64",
     "output_type": "error",
     "traceback": [
      "\u001b[1;31m---------------------------------------------------------------------------\u001b[0m",
      "\u001b[1;31mMemoryError\u001b[0m                               Traceback (most recent call last)",
      "\u001b[1;32m~\\AppData\\Local\\Temp/ipykernel_30460/2904217689.py\u001b[0m in \u001b[0;36m<module>\u001b[1;34m\u001b[0m\n\u001b[0;32m      1\u001b[0m \u001b[0mcv\u001b[0m\u001b[1;33m=\u001b[0m\u001b[0mCountVectorizer\u001b[0m\u001b[1;33m(\u001b[0m\u001b[0mngram_range\u001b[0m\u001b[1;33m=\u001b[0m\u001b[1;33m(\u001b[0m\u001b[1;36m1\u001b[0m\u001b[1;33m,\u001b[0m \u001b[1;36m2\u001b[0m\u001b[1;33m)\u001b[0m\u001b[1;33m)\u001b[0m\u001b[1;33m\u001b[0m\u001b[1;33m\u001b[0m\u001b[0m\n\u001b[1;32m----> 2\u001b[1;33m \u001b[0mvectorised_documents\u001b[0m\u001b[1;33m=\u001b[0m\u001b[0mcv\u001b[0m\u001b[1;33m.\u001b[0m\u001b[0mfit_transform\u001b[0m\u001b[1;33m(\u001b[0m\u001b[0mfinal\u001b[0m\u001b[1;33m)\u001b[0m\u001b[1;33m.\u001b[0m\u001b[0mtoarray\u001b[0m\u001b[1;33m(\u001b[0m\u001b[1;33m)\u001b[0m\u001b[1;33m\u001b[0m\u001b[1;33m\u001b[0m\u001b[0m\n\u001b[0m\u001b[0;32m      3\u001b[0m \u001b[0mvectorised_documents\u001b[0m\u001b[1;33m\u001b[0m\u001b[1;33m\u001b[0m\u001b[0m\n",
      "\u001b[1;32m~\\AppData\\Roaming\\Python\\Python39\\site-packages\\scipy\\sparse\\compressed.py\u001b[0m in \u001b[0;36mtoarray\u001b[1;34m(self, order, out)\u001b[0m\n\u001b[0;32m   1029\u001b[0m         \u001b[1;32mif\u001b[0m \u001b[0mout\u001b[0m \u001b[1;32mis\u001b[0m \u001b[1;32mNone\u001b[0m \u001b[1;32mand\u001b[0m \u001b[0morder\u001b[0m \u001b[1;32mis\u001b[0m \u001b[1;32mNone\u001b[0m\u001b[1;33m:\u001b[0m\u001b[1;33m\u001b[0m\u001b[1;33m\u001b[0m\u001b[0m\n\u001b[0;32m   1030\u001b[0m             \u001b[0morder\u001b[0m \u001b[1;33m=\u001b[0m \u001b[0mself\u001b[0m\u001b[1;33m.\u001b[0m\u001b[0m_swap\u001b[0m\u001b[1;33m(\u001b[0m\u001b[1;34m'cf'\u001b[0m\u001b[1;33m)\u001b[0m\u001b[1;33m[\u001b[0m\u001b[1;36m0\u001b[0m\u001b[1;33m]\u001b[0m\u001b[1;33m\u001b[0m\u001b[1;33m\u001b[0m\u001b[0m\n\u001b[1;32m-> 1031\u001b[1;33m         \u001b[0mout\u001b[0m \u001b[1;33m=\u001b[0m \u001b[0mself\u001b[0m\u001b[1;33m.\u001b[0m\u001b[0m_process_toarray_args\u001b[0m\u001b[1;33m(\u001b[0m\u001b[0morder\u001b[0m\u001b[1;33m,\u001b[0m \u001b[0mout\u001b[0m\u001b[1;33m)\u001b[0m\u001b[1;33m\u001b[0m\u001b[1;33m\u001b[0m\u001b[0m\n\u001b[0m\u001b[0;32m   1032\u001b[0m         \u001b[1;32mif\u001b[0m \u001b[1;32mnot\u001b[0m \u001b[1;33m(\u001b[0m\u001b[0mout\u001b[0m\u001b[1;33m.\u001b[0m\u001b[0mflags\u001b[0m\u001b[1;33m.\u001b[0m\u001b[0mc_contiguous\u001b[0m \u001b[1;32mor\u001b[0m \u001b[0mout\u001b[0m\u001b[1;33m.\u001b[0m\u001b[0mflags\u001b[0m\u001b[1;33m.\u001b[0m\u001b[0mf_contiguous\u001b[0m\u001b[1;33m)\u001b[0m\u001b[1;33m:\u001b[0m\u001b[1;33m\u001b[0m\u001b[1;33m\u001b[0m\u001b[0m\n\u001b[0;32m   1033\u001b[0m             \u001b[1;32mraise\u001b[0m \u001b[0mValueError\u001b[0m\u001b[1;33m(\u001b[0m\u001b[1;34m'Output array must be C or F contiguous'\u001b[0m\u001b[1;33m)\u001b[0m\u001b[1;33m\u001b[0m\u001b[1;33m\u001b[0m\u001b[0m\n",
      "\u001b[1;32m~\\AppData\\Roaming\\Python\\Python39\\site-packages\\scipy\\sparse\\base.py\u001b[0m in \u001b[0;36m_process_toarray_args\u001b[1;34m(self, order, out)\u001b[0m\n\u001b[0;32m   1200\u001b[0m             \u001b[1;32mreturn\u001b[0m \u001b[0mout\u001b[0m\u001b[1;33m\u001b[0m\u001b[1;33m\u001b[0m\u001b[0m\n\u001b[0;32m   1201\u001b[0m         \u001b[1;32melse\u001b[0m\u001b[1;33m:\u001b[0m\u001b[1;33m\u001b[0m\u001b[1;33m\u001b[0m\u001b[0m\n\u001b[1;32m-> 1202\u001b[1;33m             \u001b[1;32mreturn\u001b[0m \u001b[0mnp\u001b[0m\u001b[1;33m.\u001b[0m\u001b[0mzeros\u001b[0m\u001b[1;33m(\u001b[0m\u001b[0mself\u001b[0m\u001b[1;33m.\u001b[0m\u001b[0mshape\u001b[0m\u001b[1;33m,\u001b[0m \u001b[0mdtype\u001b[0m\u001b[1;33m=\u001b[0m\u001b[0mself\u001b[0m\u001b[1;33m.\u001b[0m\u001b[0mdtype\u001b[0m\u001b[1;33m,\u001b[0m \u001b[0morder\u001b[0m\u001b[1;33m=\u001b[0m\u001b[0morder\u001b[0m\u001b[1;33m)\u001b[0m\u001b[1;33m\u001b[0m\u001b[1;33m\u001b[0m\u001b[0m\n\u001b[0m\u001b[0;32m   1203\u001b[0m \u001b[1;33m\u001b[0m\u001b[0m\n\u001b[0;32m   1204\u001b[0m \u001b[1;33m\u001b[0m\u001b[0m\n",
      "\u001b[1;31mMemoryError\u001b[0m: Unable to allocate 52.7 GiB for an array with shape (10000, 707327) and data type int64"
     ]
    }
   ],
   "source": [
    "cv=CountVectorizer(ngram_range=(1, 2))\n",
    "vectorised_documents=cv.fit_transform(final).toarray()\n",
    "vectorised_documents"
   ]
  },
  {
   "cell_type": "code",
   "execution_count": null,
   "id": "02033893-ad4b-49b4-9864-54b8ca5ca38a",
   "metadata": {},
   "outputs": [],
   "source": [
    "final=[]\n",
    "for i in X_test:\n",
    "    tt_value=temp_token(i)\n",
    "    sents=\" \".join(tt_value)\n",
    "    final.append(sents)\n",
    "vectorised_documents_test=cv.transform(final)"
   ]
  },
  {
   "cell_type": "code",
   "execution_count": null,
   "id": "97203b7d-8da5-42f9-afc6-5e830bcf400a",
   "metadata": {},
   "outputs": [],
   "source": []
  },
  {
   "cell_type": "code",
   "execution_count": null,
   "id": "08ca99d0-5397-472a-9301-2b28a82d04da",
   "metadata": {},
   "outputs": [],
   "source": [
    "from sklearn.naive_bayes import MultinomialNB,BernoulliNB"
   ]
  },
  {
   "cell_type": "code",
   "execution_count": null,
   "id": "0c6e3041-544f-40db-95c2-3e0cc5a58fea",
   "metadata": {},
   "outputs": [],
   "source": [
    "mnb= MultinomialNB()"
   ]
  },
  {
   "cell_type": "code",
   "execution_count": null,
   "id": "453c91de-2495-47d3-a09b-71987bc5d795",
   "metadata": {},
   "outputs": [],
   "source": [
    "mnb.fit(vectorised_documents,Y_train[:20000])"
   ]
  },
  {
   "cell_type": "code",
   "execution_count": null,
   "id": "3a086b65-ca8e-495b-bc9e-d1dd20eff54f",
   "metadata": {},
   "outputs": [],
   "source": [
    "y_=mnb.predict(vectorised_documents_test)"
   ]
  },
  {
   "cell_type": "code",
   "execution_count": 217,
   "id": "827523d3-d114-46ab-9c67-66a584af852b",
   "metadata": {},
   "outputs": [],
   "source": [
    "y_=pd.DataFrame(y_,columns=[\"label\"])"
   ]
  },
  {
   "cell_type": "code",
   "execution_count": 220,
   "id": "86458ee4-51f9-4015-9351-da82323447f5",
   "metadata": {},
   "outputs": [],
   "source": [
    "y_.to_csv(\"OneDrive/Desktop/ML COdes/movie Rating Prediction by text review/submit_1.csv\",index_label=\"Id\")"
   ]
  },
  {
   "cell_type": "code",
   "execution_count": null,
   "id": "4a98f001-c965-42af-aca5-40e55b370a7e",
   "metadata": {},
   "outputs": [],
   "source": []
  }
 ],
 "metadata": {
  "kernelspec": {
   "display_name": "Python 3 (ipykernel)",
   "language": "python",
   "name": "python3"
  },
  "language_info": {
   "codemirror_mode": {
    "name": "ipython",
    "version": 3
   },
   "file_extension": ".py",
   "mimetype": "text/x-python",
   "name": "python",
   "nbconvert_exporter": "python",
   "pygments_lexer": "ipython3",
   "version": "3.9.7"
  }
 },
 "nbformat": 4,
 "nbformat_minor": 5
}
